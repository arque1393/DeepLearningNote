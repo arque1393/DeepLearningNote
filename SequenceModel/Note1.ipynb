{
 "cells": [
  {
   "cell_type": "markdown",
   "metadata": {},
   "source": [
    "### Resource Collection \n",
    "**Andrew Ng**       :   https://youtu.be/S7oA5C43Rbc?si=zCSmzaxkh_FmiKse <br>\n",
    "**MIT Cource 1**    :   https://youtu.be/ySEx_Bqxvvo?si=KlTZTcRxCe7l_n03 <br>\n",
    "**MIT Course 2**    :   https://youtu.be/QvkQ1B3FBqA?si=uLmfaifnr2Ez3fY2 <br>"
   ]
  },
  {
   "cell_type": "markdown",
   "metadata": {},
   "source": [
    "![Recural Model](./RNN_MODEL_1.png)\n",
    "\n",
    "$a^{<t>} = g(W_{aa}a^{t-1} + W_{ax}x^{t} + b_a)$<br>\n",
    "$\\hat{y}^{<t>} = g(W_{ya}a^{<t>} + b_y)$ "
   ]
  },
  {
   "cell_type": "markdown",
   "metadata": {},
   "source": []
  },
  {
   "cell_type": "code",
   "execution_count": null,
   "metadata": {},
   "outputs": [],
   "source": []
  },
  {
   "cell_type": "code",
   "execution_count": 1,
   "metadata": {},
   "outputs": [],
   "source": [
    "import numpy as np\n",
    "a = np.matrix('1;2;3;4')\n",
    "b = np.matrix('1,2,3,4')"
   ]
  },
  {
   "cell_type": "code",
   "execution_count": 4,
   "metadata": {},
   "outputs": [
    {
     "data": {
      "text/plain": [
       "matrix([[30]])"
      ]
     },
     "execution_count": 4,
     "metadata": {},
     "output_type": "execute_result"
    }
   ],
   "source": [
    "b*a"
   ]
  },
  {
   "cell_type": "code",
   "execution_count": null,
   "metadata": {},
   "outputs": [],
   "source": []
  }
 ],
 "metadata": {
  "kernelspec": {
   "display_name": ".venv",
   "language": "python",
   "name": "python3"
  },
  "language_info": {
   "codemirror_mode": {
    "name": "ipython",
    "version": 3
   },
   "file_extension": ".py",
   "mimetype": "text/x-python",
   "name": "python",
   "nbconvert_exporter": "python",
   "pygments_lexer": "ipython3",
   "version": "3.10.8"
  },
  "orig_nbformat": 4
 },
 "nbformat": 4,
 "nbformat_minor": 2
}
